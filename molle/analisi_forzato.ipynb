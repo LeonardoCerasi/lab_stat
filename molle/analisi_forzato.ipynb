{
 "cells": [
  {
   "cell_type": "code",
   "execution_count": 5,
   "metadata": {},
   "outputs": [],
   "source": [
    "import numpy as np\n",
    "import matplotlib.pyplot as plt\n",
    "import pandas as pd\n",
    "\n",
    "# analysis function\n",
    "\n",
    "def analysis(path_lorentz):\n",
    "    \n",
    "    # import csv file for amplitudes\n",
    "    lorentziana = pd.read_csv(path_lorentz, sep=';')\n",
    "    \n",
    "    # convert DataFrames to numpy arrays\n",
    "    ampl = lorentziana['amplitude'].to_numpy()\n",
    "    freq = lorentziana['frequency'].to_numpy()\n",
    "\n",
    "analysis('dati/forzato/lorentziana.csv')"
   ]
  }
 ],
 "metadata": {
  "kernelspec": {
   "display_name": "Python 3 (ipykernel)",
   "language": "python",
   "name": "python3"
  },
  "language_info": {
   "codemirror_mode": {
    "name": "ipython",
    "version": 3
   },
   "file_extension": ".py",
   "mimetype": "text/x-python",
   "name": "python",
   "nbconvert_exporter": "python",
   "pygments_lexer": "ipython3",
   "version": "3.9.16"
  },
  "orig_nbformat": 4
 },
 "nbformat": 4,
 "nbformat_minor": 2
}
